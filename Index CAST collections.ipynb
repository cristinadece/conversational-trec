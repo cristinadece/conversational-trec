{
 "cells": [
  {
   "cell_type": "code",
   "execution_count": 1,
   "id": "791a8b6d-a186-4896-8ac2-23cbe5c7eac5",
   "metadata": {},
   "outputs": [],
   "source": [
    "%load_ext autoreload\n",
    "%autoreload 2\n",
    "\n",
    "from time import time\n",
    "import pandas as pd\n",
    "import numpy as np\n",
    "import os"
   ]
  },
  {
   "cell_type": "code",
   "execution_count": 2,
   "id": "27e8d771-1038-4f4f-a258-8b3603b071c9",
   "metadata": {},
   "outputs": [
    {
     "name": "stdout",
     "output_type": "stream",
     "text": [
      "PyTerrier 0.7.1 has loaded Terrier 5.6 (built by craigmacdonald on 2021-09-17 13:27)\n"
     ]
    },
    {
     "name": "stderr",
     "output_type": "stream",
     "text": [
      "No etc/terrier.properties, using terrier.default.properties for bootstrap configuration.\n"
     ]
    }
   ],
   "source": [
    "import pyterrier as pt\n",
    "pt.init()"
   ]
  },
  {
   "cell_type": "code",
   "execution_count": 16,
   "id": "91adc576-f959-4e8b-978c-3e21540a113e",
   "metadata": {},
   "outputs": [],
   "source": [
    "# CAST2022 = \"/data2/conversational/CAST_2022/collections/\""
   ]
  },
  {
   "cell_type": "code",
   "execution_count": 17,
   "id": "7b2755e1-4a43-4458-ba12-e33a059db2ab",
   "metadata": {},
   "outputs": [],
   "source": [
    "# files = ['/data4/guidorocchietti/treccast_2022/passages/passages.csv']\n",
    "\n",
    "# # build the index\n",
    "# # the default Terrier indexing configuration is to use a term pipeline of Stopwords,PorterStemmer\n",
    "# indexer = pt.TRECCollectionIndexer(\"/data3/muntean/TREC_CAST_2022/indexes/CAST2022-stemmed\",\n",
    "#                                    verbose=True,\n",
    "#                                    blocks=False,\n",
    "#                                    meta={'docno' : 47})\n",
    "\n",
    "# # indexer.setProperty(\"termpipelines\", \"\")\n",
    "# indexref = indexer.index(files)\n",
    "\n",
    "# # load the index, print the statistics\n",
    "# index = pt.IndexFactory.of(indexref)\n",
    "# print(index.getCollectionStatistics().toString())"
   ]
  },
  {
   "cell_type": "code",
   "execution_count": null,
   "id": "99d9091f-6cf4-435a-a8ba-e80128156e8d",
   "metadata": {},
   "outputs": [
    {
     "name": "stderr",
     "output_type": "stream",
     "text": [
      "Exception in thread Thread-12:\n",
      "Traceback (most recent call last):\n",
      "  File \"/usr/lib/python3.9/threading.py\", line 973, in _bootstrap_inner\n",
      "    self.run()\n",
      "  File \"/usr/lib/python3.9/threading.py\", line 910, in run\n",
      "    self._target(*self._args, **self._kwargs)\n",
      "  File \"/data3/muntean/conversational-cache/conversational-cache/lib/python3.9/site-packages/pyterrier/index.py\", line 705, in _write_fifos\n",
      "    for doc in it:\n",
      "  File \"/tmp/ipykernel_22388/3786609475.py\", line 4, in cast2022_generate\n",
      "  File \"/usr/lib/python3.9/codecs.py\", line 322, in decode\n",
      "    (result, consumed) = self._buffer_decode(data, self.errors, final)\n",
      "MemoryError\n"
     ]
    }
   ],
   "source": [
    "def cast2022_generate():\n",
    "    file = '/data4/guidorocchietti/treccast_2022/passages/passages.csv'\n",
    "    with open(file, 'r') as corpusfile:\n",
    "        corpusfile.readline()\n",
    "        for l in corpusfile:\n",
    "            docno, passage = l.split(\"\\t\")\n",
    "            yield {'docno' : docno, 'text' : passage}\n",
    "\n",
    "iter_indexer = pt.IterDictIndexer(\"./passage_index\")\n",
    "indexref = iter_indexer.index(cast2022_generate(), meta={'docno' : 50, 'text': 4096})"
   ]
  },
  {
   "cell_type": "code",
   "execution_count": null,
   "id": "2c83acdc-3661-4400-b0eb-0afe40564c88",
   "metadata": {},
   "outputs": [],
   "source": []
  }
 ],
 "metadata": {
  "kernelspec": {
   "display_name": "conversational-cache",
   "language": "python",
   "name": "conversational-cache"
  },
  "language_info": {
   "codemirror_mode": {
    "name": "ipython",
    "version": 3
   },
   "file_extension": ".py",
   "mimetype": "text/x-python",
   "name": "python",
   "nbconvert_exporter": "python",
   "pygments_lexer": "ipython3",
   "version": "3.9.11"
  }
 },
 "nbformat": 4,
 "nbformat_minor": 5
}
